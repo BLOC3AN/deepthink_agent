{
 "cells": [
  {
   "cell_type": "code",
   "execution_count": 1,
   "id": "a35cde31",
   "metadata": {},
   "outputs": [],
   "source": [
    "from agents.planningAgent.planning_agent import PlanningAgent\n",
    "from utils.logger import Logger\n",
    "import asyncio\n",
    "import time\n",
    "import json\n",
    "import requests\n",
    "import os\n"
   ]
  },
  {
   "cell_type": "code",
   "execution_count": 2,
   "id": "b8b5a28b",
   "metadata": {},
   "outputs": [
    {
     "data": {
      "text/plain": [
       "[{'name': 'Summary Agent',\n",
       "  'description': 'Specialized summary agent for technical documents',\n",
       "  'status': 'active',\n",
       "  'agent_type': 'summary',\n",
       "  'method': 'POST',\n",
       "  'capabilities': ['technical_summary', 'document_analysis'],\n",
       "  'url': 'http://127.0.0.1:8000/task/summary',\n",
       "  'arg_schema': {'type': 'object',\n",
       "   'properties': {'task_id': {'type': 'string',\n",
       "     'description': 'Unique task ID'},\n",
       "    'agent_type': {'type': 'string',\n",
       "     'description': 'Type of agent: summary, analyst, validation'},\n",
       "    'agent_name': {'type': 'string',\n",
       "     'description': 'Selected agent name from agent cards'},\n",
       "    'input_data': {'type': 'string',\n",
       "     'description': 'Data to be processed by agent'}}}}]"
      ]
     },
     "execution_count": 2,
     "metadata": {},
     "output_type": "execute_result"
    }
   ],
   "source": [
    "requests.get(\"http://127.0.0.1:8000/agent_cards\").json()"
   ]
  },
  {
   "cell_type": "code",
   "execution_count": 5,
   "id": "a10941e8",
   "metadata": {},
   "outputs": [
    {
     "name": "stderr",
     "output_type": "stream",
     "text": [
      "2025-09-25 15:08:38,520 - prompts.build_context - INFO - ✅ Loading planning prompt successfully!\n",
      "2025-09-25 15:08:38,540 - prompts.build_context - INFO - ✅ Building planning prompt successfully!\n",
      "2025-09-25 15:08:38,548 - agents.planningAgent.planning_agent - INFO - ✅ Planning Agent starting analysis\n",
      "2025-09-25 15:08:38,567 - agents.planningAgent.planning_agent - INFO - ✅ Using 1 mock agents for testing\n",
      "2025-09-25 15:08:38,569 - agents.planningAgent.planning_agent - INFO - ✅ 🧠 Analyzing user input with LLM for intent detection...\n",
      "2025-09-25 15:08:40,933 - agents.planningAgent.planning_agent - INFO - ✅ 🎯 LLM detected intents: ['technical_summary', 'market_analysis', 'cooking_instruction', 'calculation']\n",
      "2025-09-25 15:08:40,933 - agents.planningAgent.planning_agent - INFO - ✅ 🎯 LLM created 3 tasks\n",
      "2025-09-25 15:08:40,934 - agents.planningAgent.planning_agent - INFO - ✅ ✅ LLM planning completed with 3 tasks\n",
      "2025-09-25 15:08:40,934 - agents.planningAgent.planning_agent - INFO - ✅ Planning completed with 3 tasks\n"
     ]
    }
   ],
   "source": [
    "from dotenv import load_dotenv\n",
    "load_dotenv()\n",
    "planning_output = PlanningAgent().run(\"Summarize this technical document market trends , tell me how to boil eggs, how to calculate 1+1\")"
   ]
  },
  {
   "cell_type": "code",
   "execution_count": 9,
   "id": "45a5e1e1",
   "metadata": {},
   "outputs": [
    {
     "data": {
      "text/plain": [
       "[{'task_id': '1',\n",
       "  'agent_name': 'Summary Agent',\n",
       "  'agent_url': 'http://127.0.0.1:8000/task/summary',\n",
       "  'agent_type': 'summary',\n",
       "  'input_data': 'Summarize this technical document market trends',\n",
       "  'context': 'Summarize the technical document and market trends.'},\n",
       " {'task_id': '2',\n",
       "  'agent_name': 'Summary Agent',\n",
       "  'agent_url': 'http://127.0.0.1:8000/task/summary',\n",
       "  'agent_type': 'summary',\n",
       "  'input_data': 'tell me how to boil eggs',\n",
       "  'context': 'Provide cooking instructions for boiling eggs.'},\n",
       " {'task_id': '3',\n",
       "  'agent_name': 'Summary Agent',\n",
       "  'agent_url': 'http://127.0.0.1:8000/task/summary',\n",
       "  'agent_type': 'summary',\n",
       "  'input_data': 'how to calculate 1+1',\n",
       "  'context': 'Calculate 1+1.'}]"
      ]
     },
     "execution_count": 9,
     "metadata": {},
     "output_type": "execute_result"
    }
   ],
   "source": [
    "planning_output['tasks']"
   ]
  },
  {
   "cell_type": "code",
   "execution_count": 7,
   "id": "1d0fec60",
   "metadata": {},
   "outputs": [
    {
     "name": "stdout",
     "output_type": "stream",
     "text": [
      "{'task_id': '1', 'agent_type': 'summary', 'agent_name': 'Summary Agent', 'status': 'completed', 'result_data': {'summary': \"Okay, I will summarize the technical document and market trends as requested. Since I don't have the actual document, I will provide a template for the kind of summary I would create once the document is provided.\\n\\n**Template Summary:**\\n\\nThis summary provides an overview of the technical document, focusing on key technical aspects and their relevance to current market trends. It identifies the core innovations, potential applications, and market opportunities discussed within the document, while also considering the broader competitive landscape and emerging trends.\\n\\n**Key Points:**\\n\\n*   **Core Technology/Innovation:** Briefly describe the central technical advancement.\\n*   **Key Features and Benefits:** List the most important features and advantages of the technology.\\n*   **Target Market/Applications:** Identify the primary industries or applications where the technology is most relevant.\\n*   **Market Size and Growth Potential:** Summarize the market size, growth rate, and potential for expansion.\\n*   **Competitive Landscape:** Briefly describe the main competitors and their relative strengths/weaknesses.\\n*   **Emerging Trends:** Highlight any relevant market trends that could impact the technology's adoption or success.\\n\\n**Important Insights:**\\n\\n*   The document suggests a significant opportunity for [Technology/Application] in the [Specific Market] due to [Specific Market Need/Trend].\\n*   A key challenge for adoption may be [Technical Hurdle/Market Barrier], requiring further development or strategic partnerships.\\n*   The competitive landscape is characterized by [Specific Competitive Dynamic], suggesting a need for [Specific Competitive Strategy].\\n\\n**Once you provide the technical document, I will replace this template with a specific and accurate summary.**\\n\"}, 'execution_time': 4.164351940155029, 'error_message': None}\n",
      "{'task_id': '2', 'agent_type': 'summary', 'agent_name': 'Summary Agent', 'status': 'completed', 'result_data': {'summary': \"Okay, I can provide instructions for boiling eggs. Here's how to do it:\\n\\n**Summary:**\\n\\nBoiling eggs is a simple process that involves placing eggs in a pot of cold water, bringing the water to a boil, and then letting the eggs cook for a specific amount of time depending on the desired level of doneness. After cooking, the eggs are cooled in cold water to stop the cooking process and make them easier to peel.\\n\\n**Key Points:**\\n\\n*   Place eggs in a saucepan and cover them with cold water. The water level should be about an inch above the eggs.\\n*   Bring the water to a rolling boil over high heat.\\n*   Once boiling, remove the pan from the heat, cover it, and let the eggs sit for the following times based on desired doneness:\\n    *   3 minutes for a very runny yolk\\n    *   6 minutes for a soft yolk\\n    *   10 minutes for a firm, but still creamy yolk\\n    *   15 minutes for a hard-boiled egg\\n*   After the specified time, immediately transfer the eggs to a bowl of ice water to stop the cooking process.\\n*   Let the eggs cool in the ice water for at least 5 minutes before peeling.\\n\\n**Important Insights:**\\n\\n*   Starting with cold water helps the eggs cook more evenly and reduces the likelihood of cracking.\\n*   The cooking time is crucial for achieving the desired yolk consistency.\\n*   Cooling the eggs promptly in ice water prevents overcooking and makes peeling easier.\"}, 'execution_time': 3.689466714859009, 'error_message': None}\n",
      "{'task_id': '3', 'agent_type': 'summary', 'agent_name': 'Summary Agent', 'status': 'completed', 'result_data': {'summary': 'The user wants to know the result of 1+1.'}, 'execution_time': 2.0012190341949463, 'error_message': None}\n"
     ]
    }
   ],
   "source": [
    "for task in planning_output.get(\"tasks\", []):\n",
    "    response = requests.post(\"http://127.0.0.1:8000/task/summary\", json=task)\n",
    "    print(response.json())\n"
   ]
  },
  {
   "cell_type": "code",
   "execution_count": null,
   "id": "cd166ef3",
   "metadata": {},
   "outputs": [],
   "source": []
  }
 ],
 "metadata": {
  "kernelspec": {
   "display_name": "Python 3",
   "language": "python",
   "name": "python3"
  },
  "language_info": {
   "codemirror_mode": {
    "name": "ipython",
    "version": 3
   },
   "file_extension": ".py",
   "mimetype": "text/x-python",
   "name": "python",
   "nbconvert_exporter": "python",
   "pygments_lexer": "ipython3",
   "version": "3.10.18"
  }
 },
 "nbformat": 4,
 "nbformat_minor": 5
}
