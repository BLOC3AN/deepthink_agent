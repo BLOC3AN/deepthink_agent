{
 "cells": [
  {
   "cell_type": "code",
   "execution_count": 1,
   "id": "a35cde31",
   "metadata": {},
   "outputs": [],
   "source": [
    "from agents.planningAgent.planning_agent import PlanningAgent\n",
    "from utils.logger import Logger\n",
    "import asyncio\n",
    "import time\n",
    "import json\n",
    "import requests\n",
    "import os\n"
   ]
  },
  {
   "cell_type": "code",
   "execution_count": 2,
   "id": "b8b5a28b",
   "metadata": {},
   "outputs": [
    {
     "data": {
      "text/plain": [
       "[{'name': 'Summary Agent',\n",
       "  'description': 'Specialized summary agent for technical documents',\n",
       "  'status': 'active',\n",
       "  'agent_type': 'summary',\n",
       "  'capabilities': ['technical_summary', 'document_analysis'],\n",
       "  'arg_schema': {'type': 'object',\n",
       "   'properties': {'task_id': {'type': 'string',\n",
       "     'description': 'Unique task ID'},\n",
       "    'agent_type': {'type': 'string',\n",
       "     'description': 'Type of agent: summary, analyst, validation'},\n",
       "    'agent_name': {'type': 'string',\n",
       "     'description': 'Selected agent name from agent cards'},\n",
       "    'input_data': {'type': 'string',\n",
       "     'description': 'Data to be processed by agent'}}},\n",
       "  'url': 'http://127.0.0.1:8000/task/summary',\n",
       "  'method': 'POST'}]"
      ]
     },
     "execution_count": 2,
     "metadata": {},
     "output_type": "execute_result"
    }
   ],
   "source": [
    "requests.get(\"http://127.0.0.1:8000/agent_cards\").json()"
   ]
  },
  {
   "cell_type": "code",
   "execution_count": 3,
   "id": "a10941e8",
   "metadata": {},
   "outputs": [
    {
     "name": "stderr",
     "output_type": "stream",
     "text": [
      "2025-09-25 18:00:15,465 - prompts.build_context - INFO - ✅ Loading planning prompt successfully!\n",
      "2025-09-25 18:00:15,466 - prompts.build_context - INFO - ✅ Building planning prompt successfully!\n",
      "2025-09-25 18:00:15,468 - agents.planningAgent.planning_agent - INFO - ✅ Planning Agent starting analysis\n",
      "2025-09-25 18:00:15,470 - agents.planningAgent.planning_agent - INFO - ✅ Using 1 mock agents for testing\n",
      "2025-09-25 18:00:15,471 - agents.planningAgent.planning_agent - INFO - ✅ 🧠 Analyzing user input with LLM for intent detection...\n",
      "2025-09-25 18:00:18,054 - agents.planningAgent.planning_agent - INFO - ✅ 🎯 LLM detected intents: ['technical_summary', 'market_analysis', 'cooking_instruction', 'calculation']\n",
      "2025-09-25 18:00:18,057 - agents.planningAgent.planning_agent - INFO - ✅ 🎯 LLM created 3 tasks\n",
      "2025-09-25 18:00:18,057 - agents.planningAgent.planning_agent - INFO - ✅ ✅ LLM planning completed with 3 tasks\n",
      "2025-09-25 18:00:18,058 - agents.planningAgent.planning_agent - INFO - ✅ Planning completed with 3 tasks\n"
     ]
    }
   ],
   "source": [
    "from dotenv import load_dotenv\n",
    "load_dotenv()\n",
    "user_input = \"Summarize this technical document market trends , tell me how to boil eggs, how to calculate 1+1\"\n",
    "planning_output = PlanningAgent().run(\"Summarize this technical document market trends , tell me how to boil eggs, how to calculate 1+1\")"
   ]
  },
  {
   "cell_type": "code",
   "execution_count": 4,
   "id": "45a5e1e1",
   "metadata": {},
   "outputs": [
    {
     "data": {
      "text/plain": [
       "[{'task_id': '1',\n",
       "  'agent_name': 'Summary Agent',\n",
       "  'agent_url': 'http://127.0.0.1:8000/task/summary',\n",
       "  'agent_type': 'summary',\n",
       "  'input_data': 'Summarize this technical document market trends',\n",
       "  'context': 'Summarize the technical document and analyze market trends'},\n",
       " {'task_id': '2',\n",
       "  'agent_name': 'Summary Agent',\n",
       "  'agent_url': 'http://127.0.0.1:8000/task/summary',\n",
       "  'agent_type': 'summary',\n",
       "  'input_data': 'tell me how to boil eggs',\n",
       "  'context': 'provide cooking instructions'},\n",
       " {'task_id': '3',\n",
       "  'agent_name': 'Summary Agent',\n",
       "  'agent_url': 'http://127.0.0.1:8000/task/summary',\n",
       "  'agent_type': 'summary',\n",
       "  'input_data': 'how to calculate 1+1',\n",
       "  'context': 'calculate 1+1'}]"
      ]
     },
     "execution_count": 4,
     "metadata": {},
     "output_type": "execute_result"
    }
   ],
   "source": [
    "planning_output['tasks']"
   ]
  },
  {
   "cell_type": "code",
   "execution_count": 5,
   "id": "1d0fec60",
   "metadata": {},
   "outputs": [],
   "source": [
    "context = []\n",
    "for task in planning_output.get(\"tasks\", []):\n",
    "    response = requests.post(\"http://127.0.0.1:8000/task/summary\", json=task)\n",
    "\n",
    "    task_context = response.json().get(\"task_id\", {})\n",
    "    content = response.json().get(\"result_data\", {}).get(\"summary\", \"\")\n",
    "    context.append(task_context + \": \" + content)\n"
   ]
  },
  {
   "cell_type": "code",
   "execution_count": 6,
   "id": "cd166ef3",
   "metadata": {},
   "outputs": [
    {
     "data": {
      "text/plain": [
       "['1: I am designed to summarize technical documents and analyze market trends.',\n",
       " '2: I am sorry, I cannot fulfill the request. I need the document content to summarize it. Please provide the document content.',\n",
       " '3: The user wants to know the result of 1+1.']"
      ]
     },
     "execution_count": 6,
     "metadata": {},
     "output_type": "execute_result"
    }
   ],
   "source": [
    "context"
   ]
  },
  {
   "cell_type": "code",
   "execution_count": 9,
   "id": "50d203ab",
   "metadata": {},
   "outputs": [
    {
     "data": {
      "text/plain": [
       "{'task_id': '3',\n",
       " 'agent_type': 'summary',\n",
       " 'agent_name': 'Summary Agent',\n",
       " 'status': 'completed',\n",
       " 'result_data': {'summary': 'The user wants to know the result of 1+1.'},\n",
       " 'execution_time': 1.2541389465332031,\n",
       " 'error_message': None}"
      ]
     },
     "execution_count": 9,
     "metadata": {},
     "output_type": "execute_result"
    }
   ],
   "source": [
    "task_final = {'task_id': '4',\n",
    "  'agent_name': 'Summary Agent',\n",
    "  'agent_url': 'http://127.0.0.1:8000/task/summary',\n",
    "  'agent_type': 'summary',\n",
    "  'input_data': context,\n",
    "  'context': \"Combine all the information into a final summary\"}\n",
    "\n",
    "requests.post(\"http://127.0.0.1:8000/task/summary\", json=task).json()"
   ]
  },
  {
   "cell_type": "code",
   "execution_count": null,
   "id": "5ffaec84",
   "metadata": {},
   "outputs": [],
   "source": []
  }
 ],
 "metadata": {
  "kernelspec": {
   "display_name": "Python 3",
   "language": "python",
   "name": "python3"
  },
  "language_info": {
   "codemirror_mode": {
    "name": "ipython",
    "version": 3
   },
   "file_extension": ".py",
   "mimetype": "text/x-python",
   "name": "python",
   "nbconvert_exporter": "python",
   "pygments_lexer": "ipython3",
   "version": "3.10.18"
  }
 },
 "nbformat": 4,
 "nbformat_minor": 5
}
